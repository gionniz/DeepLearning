{
  "cells": [
    {
      "cell_type": "code",
      "execution_count": 3,
      "id": "3b845416-7f96-4811-aced-c96c5d48f428",
      "metadata": {
        "id": "3b845416-7f96-4811-aced-c96c5d48f428"
      },
      "outputs": [],
      "source": [
        "import torch\n",
        "import torch.nn as nn\n",
        "import torch.nn.functional as F\n",
        "import torch.optim as optim\n",
        "import torchvision\n",
        "import torchvision.transforms as transforms\n",
        "import matplotlib.pyplot as plt\n",
        "\n",
        "from sklearn.metrics import mean_squared_error\n",
        "from skimage.metrics import structural_similarity as ssim\n",
        "from sklearn.decomposition import PCA"
      ]
    },
    {
      "cell_type": "code",
      "execution_count": 4,
      "id": "c547adbd-352f-4179-8c89-80266fbf892f",
      "metadata": {
        "colab": {
          "base_uri": "https://localhost:8080/"
        },
        "id": "c547adbd-352f-4179-8c89-80266fbf892f",
        "outputId": "e8fe1c0d-bbbe-4ea1-a4ab-45cfc04da749"
      },
      "outputs": [
        {
          "output_type": "stream",
          "name": "stdout",
          "text": [
            "Usando cpu para entrenar\n"
          ]
        }
      ],
      "source": [
        "device = torch.device('cuda' if torch.cuda.is_available() else 'cpu')\n",
        "print(f'Usando {device} para entrenar')"
      ]
    },
    {
      "cell_type": "code",
      "execution_count": 5,
      "id": "391e4b81-543b-4283-a235-ea1e0d6b63c4",
      "metadata": {
        "colab": {
          "base_uri": "https://localhost:8080/"
        },
        "id": "391e4b81-543b-4283-a235-ea1e0d6b63c4",
        "outputId": "7b84a27a-4d59-4f39-cff8-6bbec95c06ab"
      },
      "outputs": [
        {
          "output_type": "stream",
          "name": "stdout",
          "text": [
            "Downloading http://yann.lecun.com/exdb/mnist/train-images-idx3-ubyte.gz\n",
            "Downloading http://yann.lecun.com/exdb/mnist/train-images-idx3-ubyte.gz to ./data/MNIST/raw/train-images-idx3-ubyte.gz\n"
          ]
        },
        {
          "output_type": "stream",
          "name": "stderr",
          "text": [
            "100%|██████████| 9912422/9912422 [00:00<00:00, 111913687.95it/s]\n"
          ]
        },
        {
          "output_type": "stream",
          "name": "stdout",
          "text": [
            "Extracting ./data/MNIST/raw/train-images-idx3-ubyte.gz to ./data/MNIST/raw\n",
            "\n",
            "Downloading http://yann.lecun.com/exdb/mnist/train-labels-idx1-ubyte.gz\n",
            "Downloading http://yann.lecun.com/exdb/mnist/train-labels-idx1-ubyte.gz to ./data/MNIST/raw/train-labels-idx1-ubyte.gz\n"
          ]
        },
        {
          "output_type": "stream",
          "name": "stderr",
          "text": [
            "100%|██████████| 28881/28881 [00:00<00:00, 29799678.68it/s]\n"
          ]
        },
        {
          "output_type": "stream",
          "name": "stdout",
          "text": [
            "Extracting ./data/MNIST/raw/train-labels-idx1-ubyte.gz to ./data/MNIST/raw\n",
            "\n",
            "Downloading http://yann.lecun.com/exdb/mnist/t10k-images-idx3-ubyte.gz\n",
            "Downloading http://yann.lecun.com/exdb/mnist/t10k-images-idx3-ubyte.gz to ./data/MNIST/raw/t10k-images-idx3-ubyte.gz\n"
          ]
        },
        {
          "output_type": "stream",
          "name": "stderr",
          "text": [
            "100%|██████████| 1648877/1648877 [00:00<00:00, 31717143.38it/s]\n"
          ]
        },
        {
          "output_type": "stream",
          "name": "stdout",
          "text": [
            "Extracting ./data/MNIST/raw/t10k-images-idx3-ubyte.gz to ./data/MNIST/raw\n",
            "\n",
            "Downloading http://yann.lecun.com/exdb/mnist/t10k-labels-idx1-ubyte.gz\n",
            "Downloading http://yann.lecun.com/exdb/mnist/t10k-labels-idx1-ubyte.gz to ./data/MNIST/raw/t10k-labels-idx1-ubyte.gz\n"
          ]
        },
        {
          "output_type": "stream",
          "name": "stderr",
          "text": [
            "100%|██████████| 4542/4542 [00:00<00:00, 15289348.93it/s]\n"
          ]
        },
        {
          "output_type": "stream",
          "name": "stdout",
          "text": [
            "Extracting ./data/MNIST/raw/t10k-labels-idx1-ubyte.gz to ./data/MNIST/raw\n",
            "\n"
          ]
        }
      ],
      "source": [
        "transform = transforms.Compose([transforms.ToTensor(), transforms.Normalize((0.5,), (0.5,))])\n",
        "\n",
        "full_train_dataset = torchvision.datasets.MNIST(root='./data', train=True, transform=transform, download=True)\n",
        "test_dataset = torchvision.datasets.MNIST(root='./data', train=False, transform=transform, download=True)\n",
        "\n",
        "# Dividir el conjunto de entrenamiento en entrenamiento y validación\n",
        "train_size = int(0.9 * len(full_train_dataset)) # 90% para entrenamiento\n",
        "valid_size = len(full_train_dataset) - train_size # 10% para validación\n",
        "train_dataset, valid_dataset = torch.utils.data.random_split(full_train_dataset, [train_size, valid_size])\n",
        "\n",
        "train_loader = torch.utils.data.DataLoader(dataset=train_dataset, batch_size=100, shuffle=True)\n",
        "valid_loader = torch.utils.data.DataLoader(dataset=valid_dataset, batch_size=100, shuffle=False)\n",
        "test_loader = torch.utils.data.DataLoader(dataset=test_dataset, batch_size=100, shuffle=False)"
      ]
    },
    {
      "cell_type": "markdown",
      "id": "25afcc5e-be53-422e-8881-9821921b23a3",
      "metadata": {
        "id": "25afcc5e-be53-422e-8881-9821921b23a3"
      },
      "source": [
        "# Ejercicio 1\n",
        "Supresor de ruido de imágenes con el MNIST con autoencoder lineal y convolucional"
      ]
    },
    {
      "cell_type": "code",
      "execution_count": 11,
      "id": "8cf0600b-0958-4797-8f48-44ab41abdb17",
      "metadata": {
        "id": "8cf0600b-0958-4797-8f48-44ab41abdb17"
      },
      "outputs": [],
      "source": [
        "def reduce_resolution(images, scale_factor=2):\n",
        "    transformed_images = nn.functional.interpolate(images, scale_factor=1/scale_factor, mode='bicubic')\n",
        "    return transformed_images\n",
        "\n",
        "def test_and_print(images, model, resolution_change=False):\n",
        "    # Denoise test images and plot results\n",
        "    model.eval()\n",
        "    with torch.no_grad():\n",
        "        for data in test_loader:\n",
        "            original_images, _ = data\n",
        "            if resolution_change:\n",
        "                # Convert images to the desired resolution\n",
        "                resized_images = reduce_resolution(original_images, scale_factor=2)\n",
        "                noisy_images = resized_images\n",
        "            else:\n",
        "                noisy_images = add_noise(original_images)\n",
        "\n",
        "            denoised_images = model(noisy_images)\n",
        "            break  # Just denoise one batch for visualization\n",
        "\n",
        "    plt.figure(figsize=(20, 4))\n",
        "    for i in range(10):\n",
        "        # Original images\n",
        "        plt.subplot(3, 10, i + 1)\n",
        "        plt.imshow(original_images[i].numpy().reshape(28, 28), cmap='gray')\n",
        "        plt.axis('off')\n",
        "\n",
        "        # Noisy or Resized images based on condition\n",
        "        plt.subplot(3, 10, i + 11)\n",
        "        if resolution_change:\n",
        "            padded_image = np.ones((28, 28))  # Initialize with white pixels\n",
        "            # Place the 14x14 image at the center of the canvas\n",
        "            padded_image[7:21, 7:21] = resized_images[i].numpy().reshape(14, 14)\n",
        "            plt.imshow(padded_image, cmap='gray')\n",
        "            plt.axis('off')\n",
        "        else:\n",
        "            plt.imshow(noisy_images[i].numpy().reshape(28, 28), cmap='gray')\n",
        "        plt.axis('off')\n",
        "\n",
        "        # Denoised images\n",
        "        plt.subplot(3, 10, i + 21)\n",
        "        plt.imshow(denoised_images[i].numpy().reshape(28, 28), cmap='gray')\n",
        "        plt.axis('off')\n",
        "\n",
        "    plt.tight_layout()\n",
        "    plt.show()\n"
      ]
    },
    {
      "cell_type": "code",
      "execution_count": 13,
      "id": "8351d474-ea87-47f2-8e05-950679e72bd3",
      "metadata": {
        "colab": {
          "base_uri": "https://localhost:8080/",
          "height": 592
        },
        "id": "8351d474-ea87-47f2-8e05-950679e72bd3",
        "outputId": "8aaf8b11-1785-48e9-fa0a-a422588279ce"
      },
      "outputs": [
        {
          "output_type": "stream",
          "name": "stdout",
          "text": [
            "Epoch [1/10] Train Loss: 0.2696\n",
            "Epoch [2/10] Train Loss: 0.2133\n",
            "Epoch [3/10] Train Loss: 0.1931\n",
            "Epoch [4/10] Train Loss: 0.1843\n",
            "Epoch [5/10] Train Loss: 0.1792\n",
            "Epoch [6/10] Train Loss: 0.1756\n",
            "Epoch [7/10] Train Loss: 0.1729\n",
            "Epoch [8/10] Train Loss: 0.1710\n",
            "Epoch [9/10] Train Loss: 0.1696\n",
            "Epoch [10/10] Train Loss: 0.1684\n"
          ]
        },
        {
          "output_type": "display_data",
          "data": {
            "text/plain": [
              "<Figure size 2000x400 with 30 Axes>"
            ],
            "image/png": "[encoded data removed]"
          },
          "metadata": {}
        }
      ],
      "source": [
        "\n",
        "import torch\n",
        "import torch.nn as nn\n",
        "import torchvision\n",
        "from torchvision import transforms\n",
        "from torch.utils.data import DataLoader\n",
        "import matplotlib.pyplot as plt\n",
        "import numpy as np\n",
        "\n",
        "#noise addition function\n",
        "def add_noise(images, noise_factor=0.5):\n",
        "    noisy_images = images + noise_factor * torch.randn_like(images)\n",
        "    noisy_images = torch.clamp(noisy_images, 0., 1.)\n",
        "    return noisy_images\n",
        "\n",
        "#normalization checking\n",
        "def check_normalize(tensor):\n",
        "    if tensor.min() < 0 or tensor.max() > 1:\n",
        "        tensor_normalized = (tensor - tensor.min()) / (tensor.max() - tensor.min())\n",
        "    return tensor_normalized\n",
        "\n",
        "#####################################\n",
        "\n",
        "transform = transforms.Compose([transforms.ToTensor(), transforms.Normalize((0.5,), (0.5,))])\n",
        "\n",
        "train_dataset = torchvision.datasets.MNIST(root='./data', train=True, download=True, transform=transform)\n",
        "test_dataset = torchvision.datasets.MNIST(root='./data', train=False, download=True, transform=transform)\n",
        "\n",
        "train_loader = DataLoader(train_dataset, batch_size=128, shuffle=True)\n",
        "test_loader = DataLoader(test_dataset, batch_size=128, shuffle=False)\n",
        "\n",
        "class Autoencoder(nn.Module):\n",
        "    def __init__(self,input_shape,output_shape):\n",
        "        super(Autoencoder, self).__init__()\n",
        "        input_size = input_shape[0] * input_shape[1] * input_shape[2]\n",
        "        output_size = output_shape[0] * output_shape[1] * output_shape[2]\n",
        "\n",
        "        self.encoder = nn.Sequential(\n",
        "            nn.Linear(input_size,128),\n",
        "            nn.ReLU(),\n",
        "            nn.Linear(128,64),\n",
        "            nn.ReLU(),\n",
        "            nn.Linear(64,12),\n",
        "            nn.ReLU(),\n",
        "            nn.Linear(12,3)\n",
        "        )\n",
        "        self.decoder = nn.Sequential(\n",
        "            nn.Linear(3,12),\n",
        "            nn.ReLU(),\n",
        "            nn.Linear(12,64),\n",
        "            nn.ReLU(),\n",
        "            nn.Linear(64,128),\n",
        "            nn.ReLU(),\n",
        "            nn.Linear(128,output_size),\n",
        "            nn.Sigmoid(),\n",
        "        )\n",
        "\n",
        "    def forward(self, x):\n",
        "        x = x.view(x.size(0), -1)  # Flatten the input images\n",
        "        encoded = self.encoder(x)\n",
        "        decoded = self.decoder(encoded)\n",
        "        #decoded = decoded.view(decoded.size(0), 1, 28, 28)  # Reshape to desired output shape\n",
        "        return decoded\n",
        "\n",
        "model = Autoencoder((1,28,28),(1,28,28))\n",
        "criterion = nn.BCELoss()\n",
        "optimizer = torch.optim.Adam(model.parameters(), lr=0.001)\n",
        "\n",
        "# Training loop\n",
        "num_epochs = 10\n",
        "for epoch in range(num_epochs):\n",
        "    model.train()\n",
        "    train_loss = 0.0\n",
        "    for data in train_loader:\n",
        "        images, _ = data\n",
        "        images = images.reshape(-1,28*28)\n",
        "        noisy_images = add_noise(images)  # Add noise to the images\n",
        "        optimizer.zero_grad()\n",
        "        outputs = model(noisy_images)\n",
        "        normimg = check_normalize(images)\n",
        "        loss = criterion(outputs, normimg)\n",
        "        loss.backward()\n",
        "        optimizer.step()\n",
        "        train_loss += loss.item() * images.size(0)\n",
        "\n",
        "    train_loss = train_loss / len(train_loader.dataset)\n",
        "    print(f\"Epoch [{epoch + 1}/{num_epochs}] Train Loss: {train_loss:.4f}\")\n",
        "\n",
        "\n",
        "test_and_print(images,model,False)\n",
        "\n"
      ]
    },
    {
      "cell_type": "code",
      "source": [
        "model.eval()\n",
        "\n",
        "psnr_values = []\n",
        "\n",
        "for val_data in valid_loader:\n",
        "    inputs = val_data[0].to(device)\n",
        "    noisy_inputs = add_noise(inputs)\n",
        "\n",
        "    with torch.no_grad():\n",
        "        outputs = model(noisy_inputs)\n",
        "\n",
        "    inputs = inputs.cpu().numpy()\n",
        "    outputs = outputs.cpu().numpy()\n",
        "\n",
        "    mse = mean_squared_error(inputs.flatten(), outputs.flatten())\n",
        "    psnr = 20 * np.log10(255.0 / np.sqrt(mse))\n",
        "\n",
        "    psnr_values.append(psnr)\n",
        "\n",
        "average_psnr = np.mean(psnr_values)\n",
        "\n",
        "print(f\"PSNR promedio: {average_psnr:.2f} dB\")"
      ],
      "metadata": {
        "colab": {
          "base_uri": "https://localhost:8080/"
        },
        "id": "H2qDBww2Jm8f",
        "outputId": "c82ab91b-22ea-470e-9bce-9d20c0a9ba4d"
      },
      "id": "H2qDBww2Jm8f",
      "execution_count": 19,
      "outputs": [
        {
          "output_type": "stream",
          "name": "stdout",
          "text": [
            "PSNR promedio: 48.31 dB\n"
          ]
        }
      ]
    },
    {
      "cell_type": "code",
      "source": [
        "# MAE (Mean Absolute Error)\n",
        "\n",
        "mae_scores = []\n",
        "\n",
        "with torch.no_grad():\n",
        "    for batch_data in valid_loader:\n",
        "        inputs = batch_data[0].to(device)\n",
        "        noisy_inputs = add_noise(inputs)\n",
        "\n",
        "        reconstructed_outputs = model(noisy_inputs)\n",
        "\n",
        "        mae = F.l1_loss(reconstructed_outputs, inputs, reduction='mean').item()\n",
        "        mae_scores.append(mae)\n",
        "\n",
        "average_mae = sum(mae_scores) / len(mae_scores)\n",
        "print(f\"MAE promedio: {average_mae:.4f}\")"
      ],
      "metadata": {
        "id": "1elpZ06cJsPp"
      },
      "id": "1elpZ06cJsPp",
      "execution_count": null,
      "outputs": []
    },
    {
      "cell_type": "code",
      "execution_count": null,
      "id": "9598791d-da95-4f7e-88f4-6273f02ccbae",
      "metadata": {
        "id": "9598791d-da95-4f7e-88f4-6273f02ccbae"
      },
      "outputs": [],
      "source": [
        "class Autoencoder_Convolutional(nn.Module):\n",
        "    def __init__(self, input_shape, output_shape):\n",
        "        super().__init__()\n",
        "\n",
        "        self.encoder = nn.Sequential(\n",
        "            nn.Conv2d(1, 16, 3, stride=1, padding=1),\n",
        "            nn.ReLU(),\n",
        "            nn.Conv2d(16, 32, 3, stride=1, padding=1),\n",
        "            nn.ReLU(),\n",
        "            nn.Conv2d(32, 64, 3, stride=1, padding=1),\n",
        "            nn.ReLU(),\n",
        "            nn.Conv2d(64, 128, 3, stride=2, padding=1),\n",
        "            nn.ReLU(),\n",
        "        )\n",
        "\n",
        "        self.decoder = nn.Sequential(\n",
        "            nn.ConvTranspose2d(128, 64, 3, stride=2, padding=1, output_padding=1),\n",
        "            nn.ReLU(),\n",
        "            nn.ConvTranspose2d(64, 32, 3, stride=1, padding=1),\n",
        "            nn.ReLU(),\n",
        "            nn.ConvTranspose2d(32, 16, 3, stride=1, padding=1),\n",
        "            nn.ReLU(),\n",
        "            nn.ConvTranspose2d(16, 1, 3, stride=1, padding=1),\n",
        "            nn.Sigmoid(),\n",
        "        )\n",
        "\n",
        "        self.output_shape = output_shape\n",
        "\n",
        "    def forward(self, x):\n",
        "        encoded = self.encoder(x)\n",
        "        decoded = self.decoder(encoded)\n",
        "\n",
        "        # Resize decoded to match the output shape\n",
        "        decoded = F.interpolate(decoded, size=self.output_shape[1:], mode='bilinear', align_corners=False)\n",
        "\n",
        "        return decoded\n",
        "\n",
        "model2 = Autoencoder_Convolutional((1,28,28),(1,28,28))\n",
        "criterion = nn.BCELoss()\n",
        "optimizer = torch.optim.Adam(model2.parameters(), lr=0.001)\n",
        "\n",
        "# Training loop\n",
        "num_epochs = 10\n",
        "for epoch in range(num_epochs):\n",
        "    model2.train()\n",
        "    train_loss = 0.0\n",
        "    for data in train_loader:\n",
        "        images, _ = data\n",
        "        noisy_images = add_noise(images)  # Add noise to the images\n",
        "        optimizer.zero_grad()\n",
        "        outputs = model2(noisy_images)\n",
        "        normimg = check_normalize(images)\n",
        "        loss = criterion(outputs, normimg)\n",
        "        loss.backward()\n",
        "        optimizer.step()\n",
        "        train_loss += loss.item() * images.size(0)\n",
        "\n",
        "    train_loss = train_loss / len(train_loader.dataset)\n",
        "    print(f\"Epoch [{epoch + 1}/{num_epochs}] Train Loss: {train_loss:.4f}\")\n",
        "\n",
        "\n",
        "test_and_print(images,model2,False)\n"
      ]
    },
    {
      "cell_type": "code",
      "source": [
        "# PSNR (Peak Signal-to-Noise Ratio)\n",
        "\n",
        "model2.eval()\n",
        "\n",
        "psnr_values = []\n",
        "for val_data in valid_loader:\n",
        "    inputs = val_data[0].to(device)\n",
        "    noisy_inputs = add_noise(inputs)\n",
        "\n",
        "    with torch.no_grad():\n",
        "        outputs = model2(noisy_inputs)\n",
        "\n",
        "    inputs = inputs.cpu().numpy()\n",
        "    outputs = outputs.cpu().numpy()\n",
        "\n",
        "    mse = mean_squared_error(inputs.flatten(), outputs.flatten())\n",
        "    psnr = 20 * np.log10(255.0 / np.sqrt(mse))\n",
        "\n",
        "    psnr_values.append(psnr)\n",
        "\n",
        "average_psnr = np.mean(psnr_values)\n",
        "\n",
        "print(f\"PSNR promedio: {average_psnr:.2f} dB\")"
      ],
      "metadata": {
        "id": "iPPIllt7sZkr"
      },
      "id": "iPPIllt7sZkr",
      "execution_count": null,
      "outputs": []
    },
    {
      "cell_type": "code",
      "source": [
        "# MAE (Mean Absolute Error)\n",
        "\n",
        "mae_scores = []\n",
        "\n",
        "with torch.no_grad():\n",
        "    for batch_data in valid_loader:\n",
        "        inputs = batch_data[0].to(device)\n",
        "        noisy_inputs = add_noise(inputs)\n",
        "\n",
        "        reconstructed_outputs = model2(noisy_inputs)\n",
        "\n",
        "        mae = F.l1_loss(reconstructed_outputs, inputs, reduction='mean').item()\n",
        "        mae_scores.append(mae)\n",
        "\n",
        "average_mae = sum(mae_scores) / len(mae_scores)\n",
        "print(f\"MAE promedio: {average_mae:.4f}\")"
      ],
      "metadata": {
        "colab": {
          "base_uri": "https://localhost:8080/"
        },
        "id": "E3Y2Hgo8tVzh",
        "outputId": "96b5425a-1f2f-400a-ffe7-959dc475a633"
      },
      "id": "E3Y2Hgo8tVzh",
      "execution_count": null,
      "outputs": [
        {
          "output_type": "stream",
          "name": "stdout",
          "text": [
            "MAE promedio: 0.8746\n"
          ]
        }
      ]
    },
    {
      "cell_type": "markdown",
      "id": "89e28835-82ab-4e4d-a4e4-2593458316f5",
      "metadata": {
        "id": "89e28835-82ab-4e4d-a4e4-2593458316f5"
      },
      "source": [
        "# Ejercicio 2\n",
        "Super resolución de imágenes con el MNIST con autoencoder lineal y convolucional"
      ]
    },
    {
      "cell_type": "code",
      "execution_count": 22,
      "id": "149e174c-98a7-48bb-b2cc-e09bec723224",
      "metadata": {
        "colab": {
          "base_uri": "https://localhost:8080/",
          "height": 592
        },
        "id": "149e174c-98a7-48bb-b2cc-e09bec723224",
        "outputId": "3bcbbcaa-7da8-49ca-b2e4-63941c8512ea"
      },
      "outputs": [
        {
          "output_type": "stream",
          "name": "stdout",
          "text": [
            "Epoch [1/10] Train Loss: 0.0681\n",
            "Epoch [2/10] Train Loss: 0.0479\n",
            "Epoch [3/10] Train Loss: 0.0433\n",
            "Epoch [4/10] Train Loss: 0.0408\n",
            "Epoch [5/10] Train Loss: 0.0392\n",
            "Epoch [6/10] Train Loss: 0.0383\n",
            "Epoch [7/10] Train Loss: 0.0376\n",
            "Epoch [8/10] Train Loss: 0.0369\n",
            "Epoch [9/10] Train Loss: 0.0364\n",
            "Epoch [10/10] Train Loss: 0.0360\n"
          ]
        },
        {
          "output_type": "display_data",
          "data": {
            "text/plain": [
              "<Figure size 2000x400 with 30 Axes>"
            ],
            "image/png": "[encoded data removed]"
          },
          "metadata": {}
        }
      ],
      "source": [
        "######################SUPER RESOLUTION WITH LINEAR AUTOENCODER\n",
        "\n",
        "model3 = Autoencoder((1,14,14),(1,28,28))\n",
        "criterion = nn.MSELoss()\n",
        "optimizer = torch.optim.Adam(model3.parameters(), lr=0.001)\n",
        "\n",
        "# Training loop\n",
        "num_epochs = 10\n",
        "for epoch in range(num_epochs):\n",
        "    model3.train()\n",
        "    train_loss = 0.0\n",
        "    for data in train_loader:\n",
        "        images, _ = data\n",
        "        #images = images.reshape(-1,28*28)\n",
        "        reduced_resolution_images = reduce_resolution(images, scale_factor=2)  # Add noise to the images\n",
        "        optimizer.zero_grad()\n",
        "        outputs = model3(reduced_resolution_images)\n",
        "        outputs = outputs.view(outputs.size(0), 1, 28, 28)  # Reshape to desired output shape\n",
        "        normimg = check_normalize(images)\n",
        "        loss = criterion(outputs, normimg)\n",
        "        loss.backward()\n",
        "        optimizer.step()\n",
        "        train_loss += loss.item() * images.size(0)\n",
        "\n",
        "    train_loss = train_loss / len(train_loader.dataset)\n",
        "    print(f\"Epoch [{epoch + 1}/{num_epochs}] Train Loss: {train_loss:.4f}\")\n",
        "\n",
        "test_and_print(images, model3, resolution_change=True)\n"
      ]
    },
    {
      "cell_type": "code",
      "source": [
        "# PSNR (Peak Signal-to-Noise Ratio)\n",
        "\n",
        "model3.eval()\n",
        "\n",
        "psnr_values = []\n",
        "for val_data in valid_loader:\n",
        "    inputs = val_data[0].to(device)\n",
        "    noisy_inputs = add_noise(inputs)\n",
        "\n",
        "    with torch.no_grad():\n",
        "        outputs = model3(noisy_inputs)\n",
        "\n",
        "    inputs = inputs.cpu().numpy()\n",
        "    outputs = outputs.cpu().numpy()\n",
        "\n",
        "    mse = mean_squared_error(inputs.flatten(), outputs.flatten())\n",
        "    psnr = 20 * np.log10(255.0 / np.sqrt(mse))\n",
        "\n",
        "    psnr_values.append(psnr)\n",
        "\n",
        "average_psnr = np.mean(psnr_values)\n",
        "\n",
        "print(f\"PSNR promedio: {average_psnr:.2f} dB\")"
      ],
      "metadata": {
        "id": "_sSTxs2fHVN1"
      },
      "id": "_sSTxs2fHVN1",
      "execution_count": null,
      "outputs": []
    },
    {
      "cell_type": "code",
      "source": [
        "# MAE (Mean Absolute Error)\n",
        "\n",
        "mae_scores = []\n",
        "\n",
        "with torch.no_grad():\n",
        "    for batch_data in valid_loader:\n",
        "        inputs = batch_data[0].to(device)\n",
        "        noisy_inputs = add_noise(inputs)\n",
        "\n",
        "        reconstructed_outputs = model3(noisy_inputs)\n",
        "\n",
        "        mae = F.l1_loss(reconstructed_outputs, inputs, reduction='mean').item()\n",
        "        mae_scores.append(mae)\n",
        "\n",
        "average_mae = sum(mae_scores) / len(mae_scores)\n",
        "print(f\"MAE promedio: {average_mae:.4f}\")"
      ],
      "metadata": {
        "id": "6d77gy3EHfwD"
      },
      "id": "6d77gy3EHfwD",
      "execution_count": null,
      "outputs": []
    },
    {
      "cell_type": "code",
      "execution_count": null,
      "id": "19e4a5da-42ca-4f28-802e-9f834cab923d",
      "metadata": {
        "colab": {
          "base_uri": "https://localhost:8080/",
          "height": 563
        },
        "id": "19e4a5da-42ca-4f28-802e-9f834cab923d",
        "outputId": "94eb5351-52db-4dcc-a674-7a2ac3e4089a"
      },
      "outputs": [
        {
          "output_type": "stream",
          "name": "stdout",
          "text": [
            "Epoch [1/10] Train Loss: 0.1327\n",
            "Epoch [2/10] Train Loss: 0.1066\n",
            "Epoch [3/10] Train Loss: 0.1063\n",
            "Epoch [4/10] Train Loss: 0.1062\n",
            "Epoch [5/10] Train Loss: 0.1061\n",
            "Epoch [6/10] Train Loss: 0.1061\n",
            "Epoch [7/10] Train Loss: 0.1061\n",
            "Epoch [8/10] Train Loss: 0.1060\n",
            "Epoch [9/10] Train Loss: 0.1060\n",
            "Epoch [10/10] Train Loss: 0.1060\n"
          ]
        },
        {
          "output_type": "display_data",
          "data": {
            "text/plain": [
              "<Figure size 2000x400 with 30 Axes>"
            ],
            "image/png": "[encoded data removed]"
          },
          "metadata": {}
        }
      ],
      "source": [
        "######################SUPER RESOLUTION WITH CCONVOLUTIONAL AUTOENCODER\n",
        "\n",
        "class Autoencoder_Convolutional(nn.Module):\n",
        "    def __init__(self, input_shape, output_shape):\n",
        "        super().__init__()\n",
        "\n",
        "        self.encoder = nn.Sequential(\n",
        "            nn.Conv2d(1, 16, 3, stride=1, padding=1),\n",
        "            nn.ReLU(),\n",
        "            nn.Conv2d(16, 32, 3, stride=1, padding=1),\n",
        "            nn.ReLU(),\n",
        "            nn.Conv2d(32, 64, 3, stride=1, padding=1),\n",
        "            nn.ReLU(),\n",
        "            nn.Conv2d(64, 128, 3, stride=2, padding=1),\n",
        "            nn.ReLU(),\n",
        "        )\n",
        "\n",
        "        self.decoder = nn.Sequential(\n",
        "            nn.ConvTranspose2d(128, 64, 3, stride=2, padding=1, output_padding=1),\n",
        "            nn.ReLU(),\n",
        "            nn.ConvTranspose2d(64, 32, 3, stride=1, padding=1),\n",
        "            nn.ReLU(),\n",
        "            nn.ConvTranspose2d(32, 16, 3, stride=1, padding=1),\n",
        "            nn.ReLU(),\n",
        "            nn.ConvTranspose2d(16, 1, 3, stride=1, padding=1),\n",
        "            nn.Sigmoid(),\n",
        "        )\n",
        "\n",
        "        self.output_shape = output_shape\n",
        "\n",
        "    def forward(self, x):\n",
        "        encoded = self.encoder(x)\n",
        "        decoded = self.decoder(encoded)\n",
        "\n",
        "        # Resize decoded to match the output shape\n",
        "        decoded = F.interpolate(decoded, size=self.output_shape[1:], mode='bilinear', align_corners=False)\n",
        "\n",
        "        return decoded\n",
        "\n",
        "\n",
        "\n",
        "model4 = Autoencoder_Convolutional((1,14,14),(1,28,28))\n",
        "criterion = nn.BCELoss()\n",
        "optimizer = torch.optim.Adam(model4.parameters(), lr=0.001)\n",
        "\n",
        "# Training loop\n",
        "num_epochs = 10\n",
        "for epoch in range(num_epochs):\n",
        "    model4.train()\n",
        "    train_loss = 0.0\n",
        "    for data in train_loader:\n",
        "        images, _ = data\n",
        "        reduced_resolution_images = reduce_resolution(images, scale_factor=2)  # Add noise to the images\n",
        "        optimizer.zero_grad()\n",
        "        outputs = model4(reduced_resolution_images)\n",
        "        normimg = check_normalize(images)\n",
        "        loss = criterion(outputs, normimg)\n",
        "        loss.backward()\n",
        "        optimizer.step()\n",
        "        train_loss += loss.item() * images.size(0)\n",
        "\n",
        "    train_loss = train_loss / len(train_loader.dataset)\n",
        "    print(f\"Epoch [{epoch + 1}/{num_epochs}] Train Loss: {train_loss:.4f}\")\n",
        "\n",
        "\n",
        "test_and_print(images,model4,True)\n"
      ]
    },
    {
      "cell_type": "code",
      "source": [
        "# PSNR (Peak Signal-to-Noise Ratio)\n",
        "\n",
        "model4.eval()\n",
        "\n",
        "psnr_values = []\n",
        "for val_data in valid_loader:\n",
        "    inputs = val_data[0].to(device)\n",
        "    noisy_inputs = add_noise(inputs)\n",
        "\n",
        "    with torch.no_grad():\n",
        "        outputs = model4(noisy_inputs)\n",
        "\n",
        "    inputs = inputs.cpu().numpy()\n",
        "    outputs = outputs.cpu().numpy()\n",
        "\n",
        "    mse = mean_squared_error(inputs.flatten(), outputs.flatten())\n",
        "    psnr = 20 * np.log10(255.0 / np.sqrt(mse))\n",
        "\n",
        "    psnr_values.append(psnr)\n",
        "\n",
        "average_psnr = np.mean(psnr_values)\n",
        "\n",
        "print(f\"PSNR promedio: {average_psnr:.2f} dB\")"
      ],
      "metadata": {
        "id": "WmmTqWsrxKQp"
      },
      "id": "WmmTqWsrxKQp",
      "execution_count": null,
      "outputs": []
    },
    {
      "cell_type": "code",
      "source": [
        "# MAE (Mean Absolute Error)\n",
        "\n",
        "mae_scores = []\n",
        "\n",
        "with torch.no_grad():\n",
        "    for batch_data in valid_loader:\n",
        "        inputs = batch_data[0].to(device)\n",
        "        noisy_inputs = add_noise(inputs)\n",
        "\n",
        "        reconstructed_outputs = model4(noisy_inputs)\n",
        "\n",
        "        mae = F.l1_loss(reconstructed_outputs, inputs, reduction='mean').item()\n",
        "        mae_scores.append(mae)\n",
        "\n",
        "average_mae = sum(mae_scores) / len(mae_scores)\n",
        "print(f\"MAE promedio: {average_mae:.4f}\")"
      ],
      "metadata": {
        "id": "FyZU2pmlxQ5O"
      },
      "id": "FyZU2pmlxQ5O",
      "execution_count": null,
      "outputs": []
    }
  ],
  "metadata": {
    "kernelspec": {
      "display_name": "Python 3",
      "name": "python3"
    },
    "language_info": {
      "codemirror_mode": {
        "name": "ipython",
        "version": 3
      },
      "file_extension": ".py",
      "mimetype": "text/x-python",
      "name": "python",
      "nbconvert_exporter": "python",
      "pygments_lexer": "ipython3",
      "version": "3.10.12"
    },
    "colab": {
      "provenance": [],
      "gpuType": "T4"
    },
    "accelerator": "GPU"
  },
  "nbformat": 4,
  "nbformat_minor": 5
}